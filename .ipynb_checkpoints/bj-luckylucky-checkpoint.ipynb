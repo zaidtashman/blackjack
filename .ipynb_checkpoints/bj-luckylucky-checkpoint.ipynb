{
 "cells": [
  {
   "cell_type": "code",
   "execution_count": 5,
   "metadata": {},
   "outputs": [],
   "source": [
    "import os\n",
    "import random"
   ]
  },
  {
   "cell_type": "code",
   "execution_count": 6,
   "metadata": {},
   "outputs": [],
   "source": [
    "n_decks = 8"
   ]
  },
  {
   "cell_type": "code",
   "execution_count": 23,
   "metadata": {},
   "outputs": [],
   "source": [
    "n_19 = 0\n",
    "n_20 = 0\n",
    "n_21 = 0\n",
    "n_s21 = 0\n",
    "n_678 = 0\n",
    "n_777 = 0\n",
    "n_s678 = 0\n",
    "n_s777 = 0"
   ]
  },
  {
   "cell_type": "code",
   "execution_count": 33,
   "metadata": {},
   "outputs": [],
   "source": [
    "fresh_deck = [1, 2, 3, 4, 5, 6, 7, 8, 9, 10, 10, 10, 10]*n_decks"
   ]
  },
  {
   "cell_type": "code",
   "execution_count": 34,
   "metadata": {},
   "outputs": [
    {
     "name": "stdout",
     "output_type": "stream",
     "text": [
      "[1, 10]8\n",
      "stand 21 8\n",
      "[3, 10]8\n",
      "hit 13 8\n",
      "[3, 10, 1]8\n",
      "stand 14 8\n",
      "[10, 1]8\n",
      "stand 21 8\n",
      "[3, 7]8\n",
      "hit 10 8\n",
      "[3, 7, 10]8\n",
      "stand 20 8\n",
      "[7, 10]7\n",
      "stand 17 7\n",
      "[6, 10]7\n",
      "stand 16 7\n",
      "[9, 1]7\n",
      "stand 20 7\n",
      "[7, 8]7\n",
      "hit 15 7\n",
      "[7, 8, 3]7\n",
      "stand 18 7\n",
      "[4, 1]10\n",
      "stand 15 10\n",
      "[10, 10]10\n",
      "stand 20 10\n",
      "[3, 5]10\n",
      "hit 8 10\n",
      "[3, 5, 8]10\n",
      "stand 16 10\n",
      "[4, 10]10\n",
      "hit 14 10\n",
      "[10, 10]1\n",
      "stand 20 1\n",
      "[10, 1]1\n",
      "stand 21 1\n",
      "[6, 5]1\n",
      "hit 11 1\n",
      "[6, 5, 9]1\n",
      "stand 20 1\n",
      "[9, 4]1\n",
      "hit 13 1\n",
      "[9, 4, 6]1\n",
      "stand 19 1\n",
      "[4, 2]9\n",
      "hit 6 9\n",
      "[4, 2, 5]9\n",
      "hit 11 9\n",
      "[4, 2, 5, 2]9\n",
      "hit 13 9\n",
      "[4, 2, 5, 2, 2]9\n",
      "hit 15 9\n",
      "[9, 10]9\n",
      "stand 19 9\n",
      "[7, 3]9\n",
      "hit 10 9\n",
      "[7, 3, 7]9\n",
      "stand 17 9\n",
      "[2, 4]9\n",
      "hit 6 9\n",
      "[2, 4, 8]9\n",
      "hit 14 9\n",
      "[2, 4, 8, 5]9\n",
      "stand 19 9\n",
      "[8, 8]4\n",
      "stand 16 4\n",
      "[3, 4]4\n",
      "hit 7 4\n",
      "[3, 4, 6]4\n",
      "stand 13 4\n",
      "[10, 10]4\n",
      "stand 20 4\n",
      "[3, 6]4\n",
      "hit 9 4\n",
      "[3, 6, 5]4\n",
      "stand 14 4\n",
      "[4, 3]\n",
      "hit7\n",
      "[4, 3, 2]\n",
      "hit9\n",
      "[4, 3, 2, 6]\n",
      "hit15\n",
      "[5, 2]6\n",
      "hit 7 6\n",
      "[5, 2, 5]6\n",
      "stand 12 6\n",
      "[4, 7]6\n",
      "hit 11 6\n",
      "[4, 7, 10]6\n",
      "hit 21 6\n",
      "[10, 10]6\n",
      "stand 20 6\n",
      "[10, 10]6\n",
      "stand 20 6\n",
      "[6, 8]\n",
      "hit14\n",
      "[10, 10]10\n",
      "stand 20 10\n",
      "[2, 2]10\n",
      "hit 4 10\n",
      "[2, 2, 6]10\n",
      "hit 10 10\n",
      "0\n"
     ]
    }
   ],
   "source": [
    "deck = fresh_deck\n",
    "new_shoot = False\n",
    "random.shuffle(deck)\n",
    "while (new_shoot == False):\n",
    "    n_players = players_count()\n",
    "    if len(deck) > 2*(n_players + 1):\n",
    "        try:\n",
    "            players_hands, dealer_hand, deck = deal(n_players, deck)\n",
    "            check_luckylucky(players_hands, dealer_hand[0])\n",
    "            deck = play_round(players_hands, dealer_hand, deck)\n",
    "        except:\n",
    "            new_shoot = True\n",
    "    else:\n",
    "        new_shoot = True\n",
    "print n_777"
   ]
  },
  {
   "cell_type": "code",
   "execution_count": 9,
   "metadata": {},
   "outputs": [],
   "source": [
    "def players_count():\n",
    "    # need a probability distribution for the number of players on a table\n",
    "    return 4"
   ]
  },
  {
   "cell_type": "code",
   "execution_count": 10,
   "metadata": {},
   "outputs": [],
   "source": [
    "def deal(n_players, deck):\n",
    "    players_hands = []\n",
    "    dealer_hand = []\n",
    "    \n",
    "    for i in range(n_players):\n",
    "        hand = []\n",
    "        hand.append(deck.pop())\n",
    "        players_hands.append(hand)\n",
    "    \n",
    "    dealer_hand.append(deck.pop())\n",
    "    \n",
    "    for i in range(n_players):\n",
    "        players_hands[i].append(deck.pop())\n",
    "        \n",
    "    dealer_hand.append(deck.pop())\n",
    "    \n",
    "    return players_hands, dealer_hand, deck"
   ]
  },
  {
   "cell_type": "code",
   "execution_count": 11,
   "metadata": {},
   "outputs": [],
   "source": [
    "def check_luckylucky(players_hands, dealer_card):\n",
    "    for player_hand in players_hands:\n",
    "        if player_hand[0] == 7 and player_hand[1] == 7 and dealer_card == 7:\n",
    "            n_777+= 1"
   ]
  },
  {
   "cell_type": "code",
   "execution_count": 12,
   "metadata": {},
   "outputs": [],
   "source": [
    "def play_round(players_hands, dealer_hand, deck):\n",
    "    for player_hand in players_hands:\n",
    "        new_player_hand, deck = book(player_hand, dealer_hand[0], deck)\n",
    "    \n",
    "    new_dealer_hand, deck = dealer(dealer_hand, deck)\n",
    "    \n",
    "    return deck"
   ]
  },
  {
   "cell_type": "code",
   "execution_count": 31,
   "metadata": {},
   "outputs": [],
   "source": [
    "def book(player_hand, dealer_card, deck):\n",
    "    stand = False\n",
    "    while (stand == False and total(player_hand) <= 21):\n",
    "        print str(player_hand) + str(dealer_card)\n",
    "        if check_ace(player_hand) and total(player_hand) > 7:\n",
    "            print \"stand \" + str(total(player_hand)) + \" \" + str(dealer_card)\n",
    "            stand = True\n",
    "        elif check_ace(player_hand) and total(player_hand) > 2:\n",
    "            print \"hit \" + str(total(player_hand)) + \" \" + str(dealer_card)\n",
    "            player_hand.append(deck.pop())\n",
    "        elif total(player_hand) >= 16 and total(player_hand) <= 20:\n",
    "            print \"stand \" + str(total(player_hand)) + \" \" + str(dealer_card)\n",
    "            stand = True\n",
    "        elif total(player_hand) > 12 and total(player_hand) <= 17 and dealer_card >= 2 and dealer_card <=6:\n",
    "            print \"stand \" + str(total(player_hand)) + \" \" + str(dealer_card)\n",
    "            stand = True\n",
    "        elif total(player_hand) > 12 and total(player_hand) <= 17 and (dealer_card >= 7 or dealer_card == 1):\n",
    "            print \"hit \" + str(total(player_hand)) + \" \" + str(dealer_card)\n",
    "            player_hand.append(deck.pop())\n",
    "        elif total(player_hand) == 12 and (dealer_card <= 3 or dealer_card >= 7):\n",
    "            print \"hit \" + str(total(player_hand)) + \" \" + str(dealer_card)\n",
    "            player_hand.append(deck.pop())\n",
    "        elif total(player_hand) == 12 and dealer_card <= 6 and dealer_card >= 4:\n",
    "            print \"stand \" + str(total(player_hand)) + \" \" + str(dealer_card)\n",
    "            stand = True\n",
    "        else:\n",
    "            print \"hit \" + str(total(player_hand)) + \" \" + str(dealer_card)\n",
    "            player_hand.append(deck.pop())\n",
    "    return player_hand, deck"
   ]
  },
  {
   "cell_type": "code",
   "execution_count": 32,
   "metadata": {},
   "outputs": [],
   "source": [
    "def dealer(dealer_hand, deck):\n",
    "    stand = False\n",
    "    while (stand == False and total(dealer_hand) < 17):\n",
    "        print dealer_hand\n",
    "        if check_ace(dealer_hand) and total(dealer_hand) > 7:\n",
    "            print \"stand\" + str(total(dealer_hand))\n",
    "            stand = True\n",
    "        elif check_ace(dealer_hand) and total(dealer_hand) > 2:\n",
    "            print \"hit\" + str(total(dealer_hand))\n",
    "            dealer_hand.append(deck.pop())\n",
    "        elif total(dealer_hand) >= 17 and total(dealer_hand) <= 20:\n",
    "            print \"stand\" + str(total(dealer_hand))\n",
    "            stand = True\n",
    "        else:\n",
    "            print \"hit\" + str(total(dealer_hand))\n",
    "            dealer_hand.append(deck.pop())\n",
    "    return dealer_hand, deck"
   ]
  },
  {
   "cell_type": "code",
   "execution_count": 15,
   "metadata": {},
   "outputs": [],
   "source": [
    "def total(hand):\n",
    "    total = 0\n",
    "    for card in hand:\n",
    "        if card == 1:\n",
    "            if total >= 11: \n",
    "                total+= 1\n",
    "            else: \n",
    "                total+= 11\n",
    "        else:\n",
    "            total += card\n",
    "    return total"
   ]
  },
  {
   "cell_type": "code",
   "execution_count": 16,
   "metadata": {},
   "outputs": [],
   "source": [
    "def check_ace(hand):\n",
    "    ace = False\n",
    "    for card in hand:\n",
    "        if card == 1:\n",
    "            ace = True\n",
    "    return ace"
   ]
  },
  {
   "cell_type": "code",
   "execution_count": null,
   "metadata": {},
   "outputs": [],
   "source": [
    "[1,2,3,4,5,1].count"
   ]
  }
 ],
 "metadata": {
  "kernelspec": {
   "display_name": "Python 2",
   "language": "python",
   "name": "python2"
  },
  "language_info": {
   "codemirror_mode": {
    "name": "ipython",
    "version": 2
   },
   "file_extension": ".py",
   "mimetype": "text/x-python",
   "name": "python",
   "nbconvert_exporter": "python",
   "pygments_lexer": "ipython2",
   "version": "2.7.14"
  }
 },
 "nbformat": 4,
 "nbformat_minor": 2
}
